{
 "cells": [
  {
   "cell_type": "code",
   "execution_count": 8,
   "id": "28a48dce-4737-4195-bc09-888ef08db550",
   "metadata": {
    "tags": []
   },
   "outputs": [
    {
     "name": "stdout",
     "output_type": "stream",
     "text": [
      "                                                     0                            1\n",
      "0    2DBB/training/labels\\S_DRG_230629_008_FC_006.json  S_DRG_230629_008_FC_006.jpg\n",
      "1    2DBB/training/labels\\S_DRG_230629_008_FC_007.json  S_DRG_230629_008_FC_007.jpg\n",
      "2    2DBB/training/labels\\S_DRG_230629_008_FC_014.json  S_DRG_230629_008_FC_014.jpg\n",
      "3    2DBB/training/labels\\S_DRG_230629_008_FC_017.json  S_DRG_230629_008_FC_017.jpg\n",
      "4    2DBB/training/labels\\S_DRG_230629_008_FC_018.json  S_DRG_230629_008_FC_018.jpg\n",
      "..                                                 ...                          ...\n",
      "256  2DBB/training/labels\\S_DRG_230629_009_RR_106.json  S_DRG_230629_009_RR_106.jpg\n",
      "257  2DBB/training/labels\\S_DRG_230629_009_RR_107.json  S_DRG_230629_009_RR_107.jpg\n",
      "258  2DBB/training/labels\\S_DRG_230629_009_RR_108.json  S_DRG_230629_009_RR_108.jpg\n",
      "259  2DBB/training/labels\\S_DRG_230629_009_RR_109.json  S_DRG_230629_009_RR_109.jpg\n",
      "260  2DBB/training/labels\\S_DRG_230629_009_RR_115.json  S_DRG_230629_009_RR_115.jpg\n",
      "\n",
      "[261 rows x 2 columns]\n",
      "END!\n"
     ]
    }
   ],
   "source": [
    "!python data_correct.py --csvpath=2DBB/train_miss.csv --targetpath=2DBB/training/images/"
   ]
  },
  {
   "cell_type": "code",
   "execution_count": 11,
   "id": "2ab271d8-77d1-479f-9867-de0838330b2d",
   "metadata": {},
   "outputs": [
    {
     "name": "stdout",
     "output_type": "stream",
     "text": [
      "                                                    0                            1\n",
      "0   2DBB/validation/labels\\S_DRG_230629_008_FC_025...  S_DRG_230629_008_FC_025.jpg\n",
      "1   2DBB/validation/labels\\S_DRG_230629_008_FC_028...  S_DRG_230629_008_FC_028.jpg\n",
      "2   2DBB/validation/labels\\S_DRG_230629_008_FC_031...  S_DRG_230629_008_FC_031.jpg\n",
      "3   2DBB/validation/labels\\S_DRG_230629_008_FC_083...  S_DRG_230629_008_FC_083.jpg\n",
      "4   2DBB/validation/labels\\S_DRG_230629_008_FL_017...  S_DRG_230629_008_FL_017.jpg\n",
      "5   2DBB/validation/labels\\S_DRG_230629_008_FL_045...  S_DRG_230629_008_FL_045.jpg\n",
      "6   2DBB/validation/labels\\S_DRG_230629_008_FL_096...  S_DRG_230629_008_FL_096.jpg\n",
      "7   2DBB/validation/labels\\S_DRG_230629_008_FR_012...  S_DRG_230629_008_FR_012.jpg\n",
      "8   2DBB/validation/labels\\S_DRG_230629_008_FR_021...  S_DRG_230629_008_FR_021.jpg\n",
      "9   2DBB/validation/labels\\S_DRG_230629_008_RL_040...  S_DRG_230629_008_RL_040.jpg\n",
      "10  2DBB/validation/labels\\S_DRG_230629_008_RL_102...  S_DRG_230629_008_RL_102.jpg\n",
      "11  2DBB/validation/labels\\S_DRG_230629_008_RR_109...  S_DRG_230629_008_RR_109.jpg\n",
      "12  2DBB/validation/labels\\S_DRG_230629_009_FC_094...  S_DRG_230629_009_FC_094.jpg\n",
      "13  2DBB/validation/labels\\S_DRG_230629_009_FC_105...  S_DRG_230629_009_FC_105.jpg\n",
      "14  2DBB/validation/labels\\S_DRG_230629_009_FC_107...  S_DRG_230629_009_FC_107.jpg\n",
      "15  2DBB/validation/labels\\S_DRG_230629_009_FC_110...  S_DRG_230629_009_FC_110.jpg\n",
      "16  2DBB/validation/labels\\S_DRG_230629_009_FC_115...  S_DRG_230629_009_FC_115.jpg\n",
      "17  2DBB/validation/labels\\S_DRG_230629_009_FL_050...  S_DRG_230629_009_FL_050.jpg\n",
      "18  2DBB/validation/labels\\S_DRG_230629_009_FL_051...  S_DRG_230629_009_FL_051.jpg\n",
      "19  2DBB/validation/labels\\S_DRG_230629_009_FL_069...  S_DRG_230629_009_FL_069.jpg\n",
      "20  2DBB/validation/labels\\S_DRG_230629_009_FL_110...  S_DRG_230629_009_FL_110.jpg\n",
      "21  2DBB/validation/labels\\S_DRG_230629_009_RL_009...  S_DRG_230629_009_RL_009.jpg\n",
      "22  2DBB/validation/labels\\S_DRG_230629_009_RL_017...  S_DRG_230629_009_RL_017.jpg\n",
      "23  2DBB/validation/labels\\S_DRG_230629_009_RL_031...  S_DRG_230629_009_RL_031.jpg\n",
      "24  2DBB/validation/labels\\S_DRG_230629_009_RL_045...  S_DRG_230629_009_RL_045.jpg\n",
      "25  2DBB/validation/labels\\S_DRG_230629_009_RL_046...  S_DRG_230629_009_RL_046.jpg\n",
      "26  2DBB/validation/labels\\S_DRG_230629_009_RL_059...  S_DRG_230629_009_RL_059.jpg\n",
      "27  2DBB/validation/labels\\S_DRG_230629_009_RL_062...  S_DRG_230629_009_RL_062.jpg\n",
      "28  2DBB/validation/labels\\S_DRG_230629_009_RL_075...  S_DRG_230629_009_RL_075.jpg\n",
      "29  2DBB/validation/labels\\S_DRG_230629_009_RR_014...  S_DRG_230629_009_RR_014.jpg\n",
      "30  2DBB/validation/labels\\S_DRG_230629_009_RR_028...  S_DRG_230629_009_RR_028.jpg\n",
      "31  2DBB/validation/labels\\S_DRG_230629_009_RR_029...  S_DRG_230629_009_RR_029.jpg\n",
      "32  2DBB/validation/labels\\S_DRG_230629_009_RR_077...  S_DRG_230629_009_RR_077.jpg\n",
      "33  2DBB/validation/labels\\S_DRG_230629_009_RR_084...  S_DRG_230629_009_RR_084.jpg\n",
      "34  2DBB/validation/labels\\S_DRG_230629_009_RR_090...  S_DRG_230629_009_RR_090.jpg\n",
      "END!\n"
     ]
    }
   ],
   "source": [
    "!python data_correct.py --csvpath=2DBB/valid_miss.csv --targetpath=2DBB/validation/images/"
   ]
  },
  {
   "cell_type": "code",
   "execution_count": 12,
   "id": "d35e3cc1-dfb0-4446-8fc1-b57f5c6f2cc4",
   "metadata": {
    "tags": []
   },
   "outputs": [
    {
     "name": "stdout",
     "output_type": "stream",
     "text": [
      "                                                0                            1\n",
      "0   2DBB/test/labels\\S_DRG_230629_008_FC_027.json  S_DRG_230629_008_FC_027.jpg\n",
      "1   2DBB/test/labels\\S_DRG_230629_008_FC_072.json  S_DRG_230629_008_FC_072.jpg\n",
      "2   2DBB/test/labels\\S_DRG_230629_008_FC_111.json  S_DRG_230629_008_FC_111.jpg\n",
      "3   2DBB/test/labels\\S_DRG_230629_008_FC_115.json  S_DRG_230629_008_FC_115.jpg\n",
      "4   2DBB/test/labels\\S_DRG_230629_008_FL_019.json  S_DRG_230629_008_FL_019.jpg\n",
      "5   2DBB/test/labels\\S_DRG_230629_008_FR_036.json  S_DRG_230629_008_FR_036.jpg\n",
      "6   2DBB/test/labels\\S_DRG_230629_008_RL_003.json  S_DRG_230629_008_RL_003.jpg\n",
      "7   2DBB/test/labels\\S_DRG_230629_008_RL_025.json  S_DRG_230629_008_RL_025.jpg\n",
      "8   2DBB/test/labels\\S_DRG_230629_008_RL_083.json  S_DRG_230629_008_RL_083.jpg\n",
      "9   2DBB/test/labels\\S_DRG_230629_008_RL_096.json  S_DRG_230629_008_RL_096.jpg\n",
      "10  2DBB/test/labels\\S_DRG_230629_008_RR_004.json  S_DRG_230629_008_RR_004.jpg\n",
      "11  2DBB/test/labels\\S_DRG_230629_008_RR_013.json  S_DRG_230629_008_RR_013.jpg\n",
      "12  2DBB/test/labels\\S_DRG_230629_008_RR_025.json  S_DRG_230629_008_RR_025.jpg\n",
      "13  2DBB/test/labels\\S_DRG_230629_008_RR_032.json  S_DRG_230629_008_RR_032.jpg\n",
      "14  2DBB/test/labels\\S_DRG_230629_008_RR_034.json  S_DRG_230629_008_RR_034.jpg\n",
      "15  2DBB/test/labels\\S_DRG_230629_008_RR_046.json  S_DRG_230629_008_RR_046.jpg\n",
      "16  2DBB/test/labels\\S_DRG_230629_008_RR_047.json  S_DRG_230629_008_RR_047.jpg\n",
      "17  2DBB/test/labels\\S_DRG_230629_009_FC_070.json  S_DRG_230629_009_FC_070.jpg\n",
      "18  2DBB/test/labels\\S_DRG_230629_009_FL_017.json  S_DRG_230629_009_FL_017.jpg\n",
      "19  2DBB/test/labels\\S_DRG_230629_009_FL_047.json  S_DRG_230629_009_FL_047.jpg\n",
      "20  2DBB/test/labels\\S_DRG_230629_009_RL_019.json  S_DRG_230629_009_RL_019.jpg\n",
      "21  2DBB/test/labels\\S_DRG_230629_009_RL_020.json  S_DRG_230629_009_RL_020.jpg\n",
      "22  2DBB/test/labels\\S_DRG_230629_009_RL_028.json  S_DRG_230629_009_RL_028.jpg\n",
      "23  2DBB/test/labels\\S_DRG_230629_009_RL_058.json  S_DRG_230629_009_RL_058.jpg\n",
      "24  2DBB/test/labels\\S_DRG_230629_009_RL_090.json  S_DRG_230629_009_RL_090.jpg\n",
      "25  2DBB/test/labels\\S_DRG_230629_009_RR_012.json  S_DRG_230629_009_RR_012.jpg\n",
      "26  2DBB/test/labels\\S_DRG_230629_009_RR_033.json  S_DRG_230629_009_RR_033.jpg\n",
      "27  2DBB/test/labels\\S_DRG_230629_009_RR_049.json  S_DRG_230629_009_RR_049.jpg\n",
      "28  2DBB/test/labels\\S_DRG_230629_009_RR_061.json  S_DRG_230629_009_RR_061.jpg\n",
      "29  2DBB/test/labels\\S_DRG_230629_009_RR_064.json  S_DRG_230629_009_RR_064.jpg\n",
      "30  2DBB/test/labels\\S_DRG_230629_009_RR_086.json  S_DRG_230629_009_RR_086.jpg\n",
      "END!\n"
     ]
    }
   ],
   "source": [
    "!python data_correct.py --csvpath=2DBB/test_miss.csv --targetpath=2DBB/test/images/"
   ]
  },
  {
   "cell_type": "code",
   "execution_count": null,
   "id": "ba205dd1-1d21-4d14-9cb3-743143620532",
   "metadata": {},
   "outputs": [],
   "source": []
  }
 ],
 "metadata": {
  "kernelspec": {
   "display_name": "Python 3 (ipykernel)",
   "language": "python",
   "name": "python3"
  },
  "language_info": {
   "codemirror_mode": {
    "name": "ipython",
    "version": 3
   },
   "file_extension": ".py",
   "mimetype": "text/x-python",
   "name": "python",
   "nbconvert_exporter": "python",
   "pygments_lexer": "ipython3",
   "version": "3.7.10"
  }
 },
 "nbformat": 4,
 "nbformat_minor": 5
}
